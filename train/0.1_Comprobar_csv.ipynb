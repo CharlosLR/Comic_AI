{
 "cells": [
  {
   "cell_type": "code",
   "execution_count": 1,
   "metadata": {},
   "outputs": [
    {
     "name": "stdout",
     "output_type": "stream",
     "text": [
      "El formato del CSV es correcto.\n"
     ]
    },
    {
     "data": {
      "text/plain": [
       "True"
      ]
     },
     "execution_count": 1,
     "metadata": {},
     "output_type": "execute_result"
    }
   ],
   "source": [
    "import pandas as pd\n",
    "\n",
    "def check_csv_format(csv_file):\n",
    "    try:\n",
    "        # Intentamos leer el CSV especificando el delimitador y el caracter de cita\n",
    "        df = pd.read_csv(csv_file, delimiter=',', quotechar='\"')\n",
    "        print('El formato del CSV es correcto.')\n",
    "        return True\n",
    "    \n",
    "    except pd.errors.ParserError as e:\n",
    "        print(f'Error al leer el CSV: {e}')\n",
    "        print(f'Intentando leer la línea problemática para diagnóstico:')\n",
    "        with open(csv_file, 'r', encoding='utf-8') as file:\n",
    "            lines = file.readlines()\n",
    "            problematic_line = lines[5]  # Ajusta el índice si la línea problemática es otra\n",
    "            print(f'Línea problemática: {problematic_line}')\n",
    "        return False\n",
    "\n",
    "    except Exception as e:\n",
    "        print(f'Error inesperado: {e}')\n",
    "        return False\n",
    "\n",
    "csv_file = r'data\\output\\divide_images_train\\finetuning.csv'  # Ajusta la ruta al archivo CSV correcta\n",
    "check_csv_format(csv_file)"
   ]
  }
 ],
 "metadata": {
  "kernelspec": {
   "display_name": "SATURDAYS-2",
   "language": "python",
   "name": "python3"
  },
  "language_info": {
   "codemirror_mode": {
    "name": "ipython",
    "version": 3
   },
   "file_extension": ".py",
   "mimetype": "text/x-python",
   "name": "python",
   "nbconvert_exporter": "python",
   "pygments_lexer": "ipython3",
   "version": "3.12.3"
  }
 },
 "nbformat": 4,
 "nbformat_minor": 2
}
