{
 "cells": [
  {
   "cell_type": "code",
   "execution_count": 3,
   "metadata": {},
   "outputs": [
    {
     "name": "stdout",
     "output_type": "stream",
     "text": [
      "Se ha modificado correctamente el archivo CSV. Guardado en: ..\\train\\data\\input\\Comic_train\\finetuning_modificado.csv\n"
     ]
    }
   ],
   "source": [
    "import pandas as pd\n",
    "\n",
    "# Ruta al archivo CSV original y archivo de salida modificado\n",
    "archivo_csv = r'..\\train\\data\\input\\Comic_train\\finetuning.csv'\n",
    "archivo_salida = r'..\\train\\data\\input\\Comic_train\\finetuning_modificado.csv'\n",
    "\n",
    "# Leer el archivo CSV\n",
    "df = pd.read_csv(archivo_csv, header=None)\n",
    "\n",
    "# Añadir \"..\\\" al principio de cada valor en la primera columna\n",
    "df[0] = \"..\\\\\" + df[0].astype(str)\n",
    "\n",
    "# Guardar el archivo modificado\n",
    "df.to_csv(archivo_salida, index=False, header=False)\n",
    "\n",
    "print(f'Se ha modificado correctamente el archivo CSV. Guardado en: {archivo_salida}')\n"
   ]
  }
 ],
 "metadata": {
  "kernelspec": {
   "display_name": "SATURDAYS-2",
   "language": "python",
   "name": "python3"
  },
  "language_info": {
   "codemirror_mode": {
    "name": "ipython",
    "version": 3
   },
   "file_extension": ".py",
   "mimetype": "text/x-python",
   "name": "python",
   "nbconvert_exporter": "python",
   "pygments_lexer": "ipython3",
   "version": "3.12.3"
  }
 },
 "nbformat": 4,
 "nbformat_minor": 2
}
