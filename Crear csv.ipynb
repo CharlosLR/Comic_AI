{
 "cells": [
  {
   "cell_type": "code",
   "execution_count": 19,
   "metadata": {},
   "outputs": [],
   "source": [
    "import fitz  # PyMuPDF\n",
    "from PIL import Image\n",
    "import os\n",
    "import csv"
   ]
  },
  {
   "cell_type": "code",
   "execution_count": 20,
   "metadata": {},
   "outputs": [],
   "source": [
    "'''EXTRAER IMÁGENES DEL PDF'''\n",
    "\n",
    "\n",
    "def extract_images_from_pdf(pdf_path, output_folder):\n",
    "    document = fitz.open(pdf_path)\n",
    "    for page_num in range(len(document)):\n",
    "        page = document.load_page(page_num)\n",
    "        images = page.get_images(full=True)\n",
    "        for img_index, img in enumerate(images):\n",
    "            xref = img[0]\n",
    "            base_image = document.extract_image(xref)\n",
    "            image_bytes = base_image[\"image\"]\n",
    "            image_ext = base_image[\"ext\"]\n",
    "            image_path = f\"{output_folder}/page{page_num+1}_img.{image_ext}\"\n",
    "            with open(image_path, \"wb\") as img_file:\n",
    "                img_file.write(image_bytes)\n",
    "    print(f\"Images extracted and saved to {output_folder}\")"
   ]
  },
  {
   "cell_type": "code",
   "execution_count": 21,
   "metadata": {},
   "outputs": [],
   "source": [
    "'''PREPROCESAR LAS IMÁGENES'''\n",
    "\n",
    "def preprocess_images(input_folder, output_folder, size=(360, 360)):\n",
    "    if not os.path.exists(output_folder):\n",
    "        os.makedirs(output_folder)\n",
    "    \n",
    "    for img_name in os.listdir(input_folder):\n",
    "        img_path = os.path.join(input_folder, img_name)\n",
    "        with Image.open(img_path) as img:\n",
    "            img = img.resize(size)\n",
    "            img = img.convert(\"L\")  # Convertir a escala de grises\n",
    "            img.save(os.path.join(output_folder, img_name))"
   ]
  },
  {
   "cell_type": "code",
   "execution_count": 22,
   "metadata": {},
   "outputs": [],
   "source": [
    "'''CREAR UN CONJUNTO DE DATOS ESTRUCTURADO'''\n",
    "\n",
    "def create_image_list(input_folder, output_csv):\n",
    "    with open(output_csv, mode='w', newline='') as file:\n",
    "        writer = csv.writer(file)\n",
    "        writer.writerow([\"image_path\"])\n",
    "        \n",
    "        for img_name in os.listdir(input_folder):\n",
    "            img_path = os.path.join(input_folder, img_name)\n",
    "            writer.writerow([img_path])"
   ]
  },
  {
   "cell_type": "code",
   "execution_count": 23,
   "metadata": {},
   "outputs": [
    {
     "name": "stdout",
     "output_type": "stream",
     "text": [
      "Images extracted and saved to data\\output\\divide_pages\\pages_images_raw\n"
     ]
    }
   ],
   "source": [
    "'''USO'''\n",
    "\n",
    "extract_images_from_pdf(\"data\\input\\T2_(Forum).pdf\", \"data\\output\\divide_pages\\pages_images_raw\")\n",
    "preprocess_images(\"data\\output\\divide_pages\\pages_images_raw\", \"data\\output\\divide_pages\\pages_images_grayscale\")\n",
    "create_image_list(\"data\\output\\divide_pages\\pages_images_grayscale\", \"data\\output\\divide_pages\\pages_routes\\images_routes.csv\")"
   ]
  }
 ],
 "metadata": {
  "kernelspec": {
   "display_name": "SATURDAYSAI-TENSORFLOW",
   "language": "python",
   "name": "python3"
  },
  "language_info": {
   "codemirror_mode": {
    "name": "ipython",
    "version": 3
   },
   "file_extension": ".py",
   "mimetype": "text/x-python",
   "name": "python",
   "nbconvert_exporter": "python",
   "pygments_lexer": "ipython3",
   "version": "3.11.8"
  }
 },
 "nbformat": 4,
 "nbformat_minor": 2
}
