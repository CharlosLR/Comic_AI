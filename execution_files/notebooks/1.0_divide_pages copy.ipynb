{
 "cells": [
  {
   "cell_type": "code",
   "execution_count": 41,
   "metadata": {},
   "outputs": [],
   "source": [
    "import fitz  # PyMuPDF\n",
    "import os\n",
    "import csv"
   ]
  },
  {
   "cell_type": "code",
   "execution_count": 55,
   "metadata": {},
   "outputs": [
    {
     "name": "stdout",
     "output_type": "stream",
     "text": [
      "El archivo 'E:\\SATURDAYSAI\\PROYECTO_FINAL\\ComicAI\\data\\output\\divide_pages_test\\pages_routes\\images_routes.csv' no existe, se va a crear.\n"
     ]
    },
    {
     "ename": "PermissionError",
     "evalue": "[WinError 5] Acceso denegado: 'E:\\\\SATURDAYSAI\\\\PROYECTO_FINAL\\\\ComicAI\\\\data\\\\output\\\\divide_pages_test\\\\pages_raw'",
     "output_type": "error",
     "traceback": [
      "\u001b[1;31m---------------------------------------------------------------------------\u001b[0m",
      "\u001b[1;31mPermissionError\u001b[0m                           Traceback (most recent call last)",
      "Cell \u001b[1;32mIn[55], line 47\u001b[0m\n\u001b[0;32m     44\u001b[0m     \u001b[38;5;28mprint\u001b[39m(\u001b[38;5;124mf\u001b[39m\u001b[38;5;124m\"\u001b[39m\u001b[38;5;124mEl archivo \u001b[39m\u001b[38;5;124m'\u001b[39m\u001b[38;5;132;01m{\u001b[39;00moutput_directory_csv\u001b[38;5;132;01m}\u001b[39;00m\u001b[38;5;124m'\u001b[39m\u001b[38;5;124m no existe, se va a crear.\u001b[39m\u001b[38;5;124m\"\u001b[39m)\n\u001b[0;32m     46\u001b[0m \u001b[38;5;66;03m#Eliminar subestructura creada de una ejecución anterior\u001b[39;00m\n\u001b[1;32m---> 47\u001b[0m \u001b[43mos\u001b[49m\u001b[38;5;241;43m.\u001b[39;49m\u001b[43mremove\u001b[49m\u001b[43m(\u001b[49m\u001b[43moutput_directory\u001b[49m\u001b[43m)\u001b[49m\n\u001b[0;32m     48\u001b[0m eliminar_directorio_recursivo(output_directory )\n\u001b[0;32m     49\u001b[0m \u001b[38;5;28;01mfor\u001b[39;00m subdirectorios \u001b[38;5;129;01min\u001b[39;00m os\u001b[38;5;241m.\u001b[39mlistdir(output_directory):\n",
      "\u001b[1;31mPermissionError\u001b[0m: [WinError 5] Acceso denegado: 'E:\\\\SATURDAYSAI\\\\PROYECTO_FINAL\\\\ComicAI\\\\data\\\\output\\\\divide_pages_test\\\\pages_raw'"
     ]
    }
   ],
   "source": [
    "#Función para dividir las páginas del pdf\n",
    "\n",
    "def extract_images_from_pdf(pdf_path, output_folder):\n",
    "    document = fitz.open(pdf_path)\n",
    "    for page_num in range(len(document)):\n",
    "        page = document.load_page(page_num)\n",
    "        images = page.get_images(full=True)\n",
    "        for img_index, img in enumerate(images):\n",
    "            xref = img[0]\n",
    "            base_image = document.extract_image(xref)\n",
    "            image_bytes = base_image[\"image\"]\n",
    "            image_ext = base_image[\"ext\"]\n",
    "            image_path = f\"{output_folder}/page{page_num+1}_img.{image_ext}\"\n",
    "            with open(image_path, \"wb\") as img_file:\n",
    "                img_file.write(image_bytes)\n",
    "    print(f\"Images extracted and saved to {output_folder}\")\n",
    "\n",
    "#Función para crear un archivo con todas las rutas de las páginas separadas anteriormente\n",
    "\n",
    "def create_image_list(input_folder, output_csv):\n",
    "    #Crear y Escribir el archivo\n",
    "    with open(output_csv, mode='a', newline='') as file:\n",
    "        writer = csv.writer(file)\n",
    "        for img_name in os.listdir(input_folder):\n",
    "            img_path = os.path.join(input_folder, img_name)\n",
    "            writer.writerow([img_path])\n",
    "\n",
    "def eliminar_directorio_recursivo(directorio):\n",
    "    for raiz, subcarpetas, archivos in os.walk(directorio):\n",
    "        for archivo in archivos:\n",
    "            os.remove(os.path.join(raiz, archivo))\n",
    "        for subcarpeta in subcarpetas:\n",
    "            eliminar_directorio_recursivo(os.path.join(raiz, subcarpeta))\n",
    "\n",
    "input_directory = r'E:\\SATURDAYSAI\\PROYECTO_FINAL\\ComicAI\\data\\input\\Comic_test'\n",
    "output_directory = r'E:\\SATURDAYSAI\\PROYECTO_FINAL\\ComicAI\\data\\output\\divide_pages_test\\pages_raw'\n",
    "output_directory_csv = r'E:\\SATURDAYSAI\\PROYECTO_FINAL\\ComicAI\\data\\output\\divide_pages_test\\pages_routes\\images_routes.csv'\n",
    "\n",
    "#Primero borrar el archivo de lista csv si existe\n",
    "if os.path.exists(output_directory_csv):\n",
    "    os.remove(output_directory_csv)\n",
    "    print(f\"Archivo '{output_directory_csv}' eliminado correctamente.\")\n",
    "else:\n",
    "    print(f\"El archivo '{output_directory_csv}' no existe, se va a crear.\")\n",
    "\n",
    "#Eliminar subestructura creada de una ejecución anterior\n",
    "eliminar_directorio_recursivo(output_directory )\n",
    "for subdirectorios in os.listdir(output_directory):\n",
    "    os.remove(f\"{output_directory}\\\\{subdirectorios}\")\n",
    "    print(\"Se han eliminado los directorios dentro de: %s \" % output_directory )\n",
    "\n",
    "\n",
    "# Recorrer el directorio de forma recursiva\n",
    "for raiz, subcarpetas, archivos in os.walk(input_directory):\n",
    "    # Procesar subcarpetas\n",
    "    for subcarpeta in subcarpetas:\n",
    "        print(f\"Subcarpeta: {subcarpeta}\")\n",
    "        ruta_carpeta_salida = f\"{output_directory}\\\\{subcarpeta}\"\n",
    "        # verificamos si el directorio que vamos a crear, de salida, existe\n",
    "        os.mkdir(ruta_carpeta_salida)\n",
    "        print(\"Directorio %s creado!\" % ruta_carpeta_salida)\n",
    "        # Procesar archivos\n",
    "        directorio_procesado = f\"{input_directory}\\\\{subcarpeta}\"\n",
    "        procesado_archivos = os.listdir(f\"{input_directory}\\\\{subcarpeta}\")\n",
    "        # Procesar cada nombre de archivo\n",
    "        for nombre_archivo in procesado_archivos:\n",
    "            print(f\"Procesando carpeta: {directorio_procesado}\")\n",
    "            print(f\"Archivo: {nombre_archivo}\")\n",
    "            print(f\"Ruta de la carpeta de salida: {ruta_carpeta_salida}\")\n",
    "            # verificamos si el archivo que vamos a crear, de salida, existe\n",
    "            extract_images_from_pdf(f\"{directorio_procesado}\\\\{nombre_archivo}\", ruta_carpeta_salida)\n",
    "            create_image_list(ruta_carpeta_salida, output_directory_csv)\n",
    "            print(f\"Fichero de rutas creado en {output_directory_csv} !\")\n",
    "        \n"
   ]
  }
 ],
 "metadata": {
  "kernelspec": {
   "display_name": "SATURDAYSAI-TENSORFLOW",
   "language": "python",
   "name": "python3"
  },
  "language_info": {
   "codemirror_mode": {
    "name": "ipython",
    "version": 3
   },
   "file_extension": ".py",
   "mimetype": "text/x-python",
   "name": "python",
   "nbconvert_exporter": "python",
   "pygments_lexer": "ipython3",
   "version": "3.12.3"
  }
 },
 "nbformat": 4,
 "nbformat_minor": 2
}
