{
 "cells": [
  {
   "cell_type": "code",
   "execution_count": 1,
   "metadata": {},
   "outputs": [],
   "source": [
    "from gtts import gTTS\n",
    "import os"
   ]
  },
  {
   "cell_type": "code",
   "execution_count": 7,
   "metadata": {},
   "outputs": [
    {
     "name": "stdout",
     "output_type": "stream",
     "text": [
      "El archivo de audio se ha guardado como data/input/Texto_prueba_tts/texto_prueba_tts.mp3\n"
     ]
    }
   ],
   "source": [
    "# Función para convertir texto a audio\n",
    "def text_to_audio(file_path, lang='es'):\n",
    "    # Lee el contenido del archivo de texto\n",
    "    with open(file_path, 'r', encoding='utf-8') as file:\n",
    "        text = file.read()\n",
    "    \n",
    "    # Genera el objeto gTTS\n",
    "    tts = gTTS(text=text, lang=lang)\n",
    "    \n",
    "    # Define el nombre del archivo de salida\n",
    "    audio_file = file_path.replace('.txt', '.mp3')\n",
    "    \n",
    "    # Guarda el archivo de audio\n",
    "    tts.save(r\"data\\output\\output_audio\\audio_output.mp3\")\n",
    "    \n",
    "    print(f\"El archivo de audio se ha guardado como {audio_file}\")\n",
    "\n",
    "# Ruta del archivo de texto\n",
    "file_path = r\"data/input/Texto_prueba_tts/texto_prueba_tts.txt\"\n",
    "\n",
    "# Llama a la función para convertir el archivo de texto a audio\n",
    "text_to_audio(file_path)\n"
   ]
  }
 ],
 "metadata": {
  "kernelspec": {
   "display_name": "SATURDAYS-2",
   "language": "python",
   "name": "python3"
  },
  "language_info": {
   "codemirror_mode": {
    "name": "ipython",
    "version": 3
   },
   "file_extension": ".py",
   "mimetype": "text/x-python",
   "name": "python",
   "nbconvert_exporter": "python",
   "pygments_lexer": "ipython3",
   "version": "3.12.3"
  }
 },
 "nbformat": 4,
 "nbformat_minor": 2
}
