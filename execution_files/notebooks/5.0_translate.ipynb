{
 "cells": [
  {
   "cell_type": "code",
   "execution_count": 46,
   "metadata": {},
   "outputs": [],
   "source": [
    "from deep_translator import GoogleTranslator"
   ]
  },
  {
   "cell_type": "code",
   "execution_count": 49,
   "metadata": {},
   "outputs": [
    {
     "name": "stdout",
     "output_type": "stream",
     "text": [
      "Texto original: Escoria walks near a burned building with a serious expression\n",
      "Traducción: Escoria camina cerca de edificio incendiado con expresión seria\n"
     ]
    }
   ],
   "source": [
    "texto = \"Escoria walks near a burned building with a serious expression\"\n",
    "\n",
    "try:\n",
    "    translation = GoogleTranslator(source='en', target='es').translate(texto)\n",
    "    print(f'Texto original: {texto}')\n",
    "    print(f'Traducción: {translation}')\n",
    "except Exception as e:\n",
    "    print(f'Error en la traducción: {e}')"
   ]
  }
 ],
 "metadata": {
  "kernelspec": {
   "display_name": "SATURDAYS-2",
   "language": "python",
   "name": "python3"
  },
  "language_info": {
   "codemirror_mode": {
    "name": "ipython",
    "version": 3
   },
   "file_extension": ".py",
   "mimetype": "text/x-python",
   "name": "python",
   "nbconvert_exporter": "python",
   "pygments_lexer": "ipython3",
   "version": "3.12.3"
  }
 },
 "nbformat": 4,
 "nbformat_minor": 2
}
