{
 "cells": [
  {
   "cell_type": "code",
   "execution_count": 21,
   "metadata": {},
   "outputs": [],
   "source": [
    "import fitz  # PyMuPDF\n",
    "from PIL import Image\n",
    "import os\n",
    "import csv"
   ]
  },
  {
   "cell_type": "code",
   "execution_count": 22,
   "metadata": {},
   "outputs": [],
   "source": [
    "'''EXTRAER IMÁGENES DEL PDF'''\n",
    "\n",
    "\n",
    "def extract_images_from_pdf(pdf_path, output_folder):\n",
    "    document = fitz.open(pdf_path)\n",
    "    for page_num in range(len(document)):\n",
    "        page = document.load_page(page_num)\n",
    "        images = page.get_images(full=True)\n",
    "        for img_index, img in enumerate(images):\n",
    "            xref = img[0]\n",
    "            base_image = document.extract_image(xref)\n",
    "            image_bytes = base_image[\"image\"]\n",
    "            image_ext = base_image[\"ext\"]\n",
    "            image_path = f\"{output_folder}/page{page_num+1}_img.{image_ext}\"\n",
    "            with open(image_path, \"wb\") as img_file:\n",
    "                img_file.write(image_bytes)\n",
    "    print(f\"Images extracted and saved to {output_folder}\")"
   ]
  },
  {
   "cell_type": "code",
   "execution_count": 23,
   "metadata": {},
   "outputs": [],
   "source": [
    "'''CREAR UN CONJUNTO DE DATOS ESTRUCTURADO'''\n",
    "\n",
    "def create_image_list(input_folder, output_csv):\n",
    "    with open(output_csv, mode='w', newline='') as file:\n",
    "        writer = csv.writer(file)\n",
    "        writer.writerow([\"image_path\"])\n",
    "        \n",
    "        for img_name in os.listdir(input_folder):\n",
    "            img_path = os.path.join(input_folder, img_name)\n",
    "            writer.writerow([img_path])"
   ]
  },
  {
   "cell_type": "code",
   "execution_count": 24,
   "metadata": {},
   "outputs": [
    {
     "name": "stdout",
     "output_type": "stream",
     "text": [
      "Images extracted and saved to data\\output\\divide_pages\\pages_images_raw\n"
     ]
    }
   ],
   "source": [
    "'''USO'''\n",
    "\n",
    "extract_images_from_pdf(\"data\\input\\ESCORIA_Cap1_001.pdf\", \"data\\output\\divide_pages\\pages_images_raw\")\n",
    "create_image_list(\"data\\output\\divide_pages\\pages_images_raw\", \"data\\output\\divide_pages\\pages_routes\\images_routes.csv\")"
   ]
  }
 ],
 "metadata": {
  "kernelspec": {
   "display_name": "SATURDAYSAI-TENSORFLOW",
   "language": "python",
   "name": "python3"
  },
  "language_info": {
   "codemirror_mode": {
    "name": "ipython",
    "version": 3
   },
   "file_extension": ".py",
   "mimetype": "text/x-python",
   "name": "python",
   "nbconvert_exporter": "python",
   "pygments_lexer": "ipython3",
   "version": "3.10.8"
  }
 },
 "nbformat": 4,
 "nbformat_minor": 2
}
