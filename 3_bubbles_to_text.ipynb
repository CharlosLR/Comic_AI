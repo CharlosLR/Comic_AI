{
 "cells": [
  {
   "cell_type": "markdown",
   "metadata": {},
   "source": [
    "Leer Texto de imagenes"
   ]
  },
  {
   "cell_type": "code",
   "execution_count": 1,
   "metadata": {},
   "outputs": [],
   "source": [
    "from PIL import Image\n",
    "import easyocr\n",
    "import os"
   ]
  },
  {
   "cell_type": "code",
   "execution_count": 2,
   "metadata": {},
   "outputs": [
    {
     "name": "stderr",
     "output_type": "stream",
     "text": [
      "Neither CUDA nor MPS are available - defaulting to CPU. Note: This module is much faster with a GPU.\n",
      "Downloading detection model, please wait. This may take several minutes depending upon your network connection.\n"
     ]
    },
    {
     "name": "stdout",
     "output_type": "stream",
     "text": [
      "Progress: |██████████████████████████████████████████████████| 100.0% Complete"
     ]
    },
    {
     "name": "stderr",
     "output_type": "stream",
     "text": [
      "Downloading recognition model, please wait. This may take several minutes depending upon your network connection.\n"
     ]
    },
    {
     "name": "stdout",
     "output_type": "stream",
     "text": [
      "Progress: |██████████████████████████████████████████████████| 100.0% Complete"
     ]
    }
   ],
   "source": [
    "\n",
    "\n",
    "# Inicializar el lector de easyocr\n",
    "reader = easyocr.Reader(['en'])  # 'es' para español, puedes agregar más idiomas según necesidad\n",
    "\n",
    "def extract_text_from_image(image_path):\n",
    "    \"\"\"Extrae texto de una imagen usando EasyOCR\"\"\"\n",
    "    text = reader.readtext(image_path, detail=0)\n",
    "    return \"\\n\".join(text)\n",
    "\n",
    "def process_files_in_directory(directory):\n",
    "    \"\"\"Procesa todos los archivos en un directorio y extrae texto de ellos usando EasyOCR\"\"\"\n",
    "    text_output = \"\"\n",
    "    for filename in os.listdir(directory):\n",
    "        file_path = os.path.join(directory, filename)\n",
    "        if filename.lower().endswith(('.png', '.jpg', '.jpeg', '.bmp', '.gif', '.tiff')):\n",
    "            text_output += extract_text_from_image(file_path) + \"\\n\"\n",
    "        else:\n",
    "            \"No tiene el formato correcto\"\n",
    "    return text_output\n",
    "\n",
    "# Directorio que contiene las imágenes y PDFs\n",
    "input_directory = 'data\\output\\divide_images'\n",
    "\n",
    "# Extraer texto de todos los archivos en el directorio\n",
    "extracted_text = process_files_in_directory(input_directory)\n",
    "\n",
    "# Guardar el texto extraído en un archivo de texto\n",
    "with open('data\\output\\output_text\\output_text.txt', 'w', encoding='utf-8') as text_file:\n",
    "    text_file.write(extracted_text)\n"
   ]
  }
 ],
 "metadata": {
  "kernelspec": {
   "display_name": "SATURDAYSAI",
   "language": "python",
   "name": "python3"
  },
  "language_info": {
   "codemirror_mode": {
    "name": "ipython",
    "version": 3
   },
   "file_extension": ".py",
   "mimetype": "text/x-python",
   "name": "python",
   "nbconvert_exporter": "python",
   "pygments_lexer": "ipython3",
   "version": "3.11.8"
  }
 },
 "nbformat": 4,
 "nbformat_minor": 2
}
