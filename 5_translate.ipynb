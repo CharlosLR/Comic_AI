{
 "cells": [
  {
   "cell_type": "code",
   "execution_count": null,
   "metadata": {},
   "outputs": [],
   "source": [
    "from googletrans import Translator"
   ]
  },
  {
   "cell_type": "code",
   "execution_count": null,
   "metadata": {},
   "outputs": [],
   "source": [
    "# Crear una instancia del traductor\n",
    "translator = Translator()\n",
    "\n",
    "# Texto en inglés que quieres traducir\n",
    "texto_en_ingles = \"Escoria walks near a burned building with a serious expression\"\n",
    "\n",
    "# Traducir el texto de inglés a español\n",
    "traduccion = translator.translate(text=texto_en_ingles, src='en', dest='es')\n",
    "\n",
    "# Imprimir la traducción\n",
    "print(f'Texto original: {texto_en_ingles}')\n",
    "print(f'Traducción: {traduccion.text}')"
   ]
  }
 ],
 "metadata": {
  "kernelspec": {
   "display_name": "SATURDAYS-2",
   "language": "python",
   "name": "python3"
  },
  "language_info": {
   "codemirror_mode": {
    "name": "ipython",
    "version": 3
   },
   "file_extension": ".py",
   "mimetype": "text/x-python",
   "name": "python",
   "nbconvert_exporter": "python",
   "pygments_lexer": "ipython3",
   "version": "3.12.3"
  }
 },
 "nbformat": 4,
 "nbformat_minor": 2
}
