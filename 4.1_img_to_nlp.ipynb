{
 "cells": [
  {
   "cell_type": "code",
   "execution_count": null,
   "metadata": {},
   "outputs": [],
   "source": [
    "from pickle import dump, load\n",
    "from transformers import BlipProcessor, BlipForConditionalGeneration\n",
    "import torch\n",
    "from PIL import Image\n",
    "import matplotlib.pyplot as plt\n",
    "import os"
   ]
  },
  {
   "cell_type": "markdown",
   "metadata": {},
   "source": [
    "DESCARGAR EL MODELO Y EL TOKENIZADOR"
   ]
  },
  {
   "cell_type": "code",
   "execution_count": null,
   "metadata": {},
   "outputs": [],
   "source": [
    "# Cargar el procesador y el modelo\n",
    "processor = BlipProcessor.from_pretrained(\"Salesforce/blip-image-captioning-base\")\n",
    "model = BlipForConditionalGeneration.from_pretrained(\"Salesforce/blip-image-captioning-base\")\n",
    "\n",
    "# Guardar el procesador y el modelo localmente en las rutas especificadas\n",
    "# MODIFICAR LAS RUTAS SEGÚN CADA UNO\n",
    "processor_path = \"E:\\\\SATURDAYSAI\\\\PROYECTO_FINAL\\\\modelos_preentrenados\\\\blip-image-captioning-processor\"\n",
    "model_path = \"E:\\\\SATURDAYSAI\\\\PROYECTO_FINAL\\\\modelos_preentrenados\\\\blip-image-captioning-model\"\n",
    "\n",
    "processor.save_pretrained(processor_path)\n",
    "model.save_pretrained(model_path)\n",
    "\n",
    "# Función para calcular el tamaño del directorio\n",
    "def get_directory_size(directory):\n",
    "    total_size = 0\n",
    "    for dirpath, dirnames, filenames in os.walk(directory):\n",
    "        for f in filenames:\n",
    "            fp = os.path.join(dirpath, f)\n",
    "            total_size += os.path.getsize(fp)\n",
    "    return total_size\n",
    "\n",
    "# Verificar el tamaño de los directorios guardados\n",
    "processor_size = get_directory_size(processor_path) / (1024 * 1024)  # Convertir a MB\n",
    "model_size = get_directory_size(model_path) / (1024 * 1024)  # Convertir a MB\n",
    "\n",
    "print(f\"Tamaño del procesador: {processor_size:.2f} MB\")\n",
    "print(f\"Tamaño del modelo: {model_size:.2f} MB\")"
   ]
  },
  {
   "cell_type": "code",
   "execution_count": null,
   "metadata": {},
   "outputs": [],
   "source": [
    "\n",
    "#Verificar si existen nucleos cuda\n",
    "print(f\"CUDA disponible: {torch.cuda.is_available()}\")\n",
    "if torch.cuda.is_available():\n",
    "    print(f\"Nombre del dispositivo: {torch.cuda.get_device_name(0)}\")\n",
    "\n",
    "# Configurar el dispositivo (GPU o CPU)\n",
    "device = torch.device(\"cuda\" if torch.cuda.is_available() else \"gpu\")\n",
    "model.to(device)\n"
   ]
  },
  {
   "cell_type": "markdown",
   "metadata": {},
   "source": [
    "PREPROCESAR LA IMAGEN"
   ]
  },
  {
   "cell_type": "code",
   "execution_count": null,
   "metadata": {},
   "outputs": [],
   "source": [
    "# Lista de rutas de las imágenes\n",
    "image_paths = [\n",
    "    \"data\\input\\imagenes_prueba\\\\000000101762.jpg\",\n",
    "    \"data\\input\\imagenes_prueba\\\\000000001761.jpg\",\n",
    "    \"data\\output\\divide_images\\panel_0.jpg\"\n",
    "]"
   ]
  },
  {
   "cell_type": "code",
   "execution_count": null,
   "metadata": {},
   "outputs": [],
   "source": [
    "# Función para cargar y preprocesar una imagen\n",
    "def load_and_preprocess_image(image_path):\n",
    "    image = Image.open(image_path).convert(\"RGB\")\n",
    "    inputs = processor(images=image, return_tensors=\"pt\").to(device)\n",
    "    return inputs, image"
   ]
  },
  {
   "cell_type": "markdown",
   "metadata": {},
   "source": [
    "GENERAR LA DESCRIPCIÓN DE LA IMAGEN"
   ]
  },
  {
   "cell_type": "code",
   "execution_count": null,
   "metadata": {},
   "outputs": [],
   "source": [
    "# Bucle para describir cada imagen\n",
    "for image_path in image_paths:\n",
    "    inputs, image = load_and_preprocess_image(image_path)\n",
    "    # Generar la descripción de la imagen con parámetros ajustados\n",
    "    outputs = model.generate(\n",
    "        **inputs,\n",
    "        max_length=100,  # Longitud máxima de la descripción\n",
    "        num_beams=5,    # Búsqueda en haz\n",
    "        length_penalty=2.0,  # Penalización por longitud\n",
    "        early_stopping=True\n",
    "    )\n",
    "    caption = processor.decode(outputs[0], skip_special_tokens=True)\n",
    "    \n",
    "    # Imprimir la descripción y mostrar la imagen\n",
    "    print(f\"Descripción de {image_path}: {caption}\")\n",
    "    plt.imshow(image)\n",
    "    plt.title(caption)\n",
    "    plt.axis('off')\n",
    "    plt.show()\n"
   ]
  }
 ],
 "metadata": {
  "kernelspec": {
   "display_name": "SATURDAYSAI-TENSOR-CV2",
   "language": "python",
   "name": "python3"
  },
  "language_info": {
   "codemirror_mode": {
    "name": "ipython",
    "version": 3
   },
   "file_extension": ".py",
   "mimetype": "text/x-python",
   "name": "python",
   "nbconvert_exporter": "python",
   "pygments_lexer": "ipython3",
   "version": "3.10.8"
  }
 },
 "nbformat": 4,
 "nbformat_minor": 2
}
