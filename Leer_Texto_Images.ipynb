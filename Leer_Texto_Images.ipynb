{
 "cells": [
  {
   "cell_type": "markdown",
   "metadata": {},
   "source": [
    "Instalar las bibliotecas necesarias"
   ]
  },
  {
   "cell_type": "code",
   "execution_count": null,
   "metadata": {},
   "outputs": [],
   "source": [
    "pip install easyocr\n",
    "pip install Pillow pdf2image\n"
   ]
  },
  {
   "cell_type": "markdown",
   "metadata": {},
   "source": [
    "Leer Texto de imagenes"
   ]
  },
  {
   "cell_type": "code",
   "execution_count": null,
   "metadata": {},
   "outputs": [],
   "source": [
    "from PIL import Image\n",
    "import easyocr\n",
    "from pdf2image import convert_from_path\n",
    "import os\n",
    "\n",
    "# Inicializar el lector de easyocr\n",
    "reader = easyocr.Reader(['es'])  # 'es' para español, puedes agregar más idiomas según necesidad\n",
    "\n",
    "def extract_text_from_image(image_path):\n",
    "    \"\"\"Extrae texto de una imagen usando EasyOCR\"\"\"\n",
    "    text = reader.readtext(image_path, detail=0)\n",
    "    return \"\\n\".join(text)\n",
    "\n",
    "def extract_text_from_pdf(pdf_path):\n",
    "    \"\"\"Convierte las páginas de un PDF en imágenes y extrae texto de ellas usando EasyOCR\"\"\"\n",
    "    images = convert_from_path(pdf_path)\n",
    "    text = \"\"\n",
    "    for image in images:\n",
    "        image_path = \"temp_image.png\"\n",
    "        image.save(image_path, 'PNG')\n",
    "        text += extract_text_from_image(image_path) + \"\\n\"\n",
    "        os.remove(image_path)\n",
    "    return text\n",
    "\n",
    "def process_files_in_directory(directory):\n",
    "    \"\"\"Procesa todos los archivos en un directorio y extrae texto de ellos usando EasyOCR\"\"\"\n",
    "    text_output = \"\"\n",
    "    for filename in os.listdir(directory):\n",
    "        file_path = os.path.join(directory, filename)\n",
    "        if filename.lower().endswith(('.png', '.jpg', '.jpeg', '.bmp', '.gif', '.tiff')):\n",
    "            text_output += extract_text_from_image(file_path) + \"\\n\"\n",
    "        elif filename.lower().endswith('.pdf'):\n",
    "            text_output += extract_text_from_pdf(file_path) + \"\\n\"\n",
    "    return text_output\n",
    "\n",
    "# Directorio que contiene las imágenes y PDFs\n",
    "input_directory = 'ruta/a/tu/directorio'\n",
    "\n",
    "# Extraer texto de todos los archivos en el directorio\n",
    "extracted_text = process_files_in_directory(input_directory)\n",
    "\n",
    "# Guardar el texto extraído en un archivo de texto\n",
    "with open('output_text.txt', 'w', encoding='utf-8') as text_file:\n",
    "    text_file.write(extracted_text)\n",
    "\n",
    "print(\"Texto extraído guardado en 'output_text.txt'\")"
   ]
  }
 ],
 "metadata": {
  "language_info": {
   "name": "python"
  }
 },
 "nbformat": 4,
 "nbformat_minor": 2
}
