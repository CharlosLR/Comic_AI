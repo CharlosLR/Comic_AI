{
 "cells": [
  {
   "cell_type": "markdown",
   "metadata": {},
   "source": [
    "Leer Texto de imagenes"
   ]
  },
  {
   "cell_type": "code",
   "execution_count": null,
   "metadata": {},
   "outputs": [],
   "source": [
    "from transformers import TrOCRProcessor, VisionEncoderDecoderModel\n",
    "from PIL import Image\n",
    "import csv\n",
    "import matplotlib.pyplot as plt\n",
    "import cv2\n",
    "import os"
   ]
  },
  {
   "cell_type": "code",
   "execution_count": null,
   "metadata": {},
   "outputs": [],
   "source": [
    "# Verificar si CUDA está disponible\n",
    "device = torch.device(\"cuda\" if torch.cuda.is_available() else \"cpu\")\n",
    "print(\"Device:\", device)\n",
    "\n",
    "# Obtener la lista de archivos en la carpeta\n",
    "folder_path = 'data/input/imagenes_prueba/'\n",
    "image_files = os.listdir(folder_path)\n",
    "\n",
    "# Cargar el procesador y el modelo\n",
    "processor = TrOCRProcessor.from_pretrained('microsoft/trocr-base-handwritten')\n",
    "model = VisionEncoderDecoderModel.from_pretrained('microsoft/trocr-base-handwritten').to(device)\n",
    "\n",
    "# Iterar sobre cada imagen en la carpeta\n",
    "for image_file in image_files:\n",
    "    if image_file.endswith('.png') or image_file.endswith('.jpg') or image_file.endswith('.jpeg'):\n",
    "        # Cargar la imagen\n",
    "        image_path = os.path.join(folder_path, image_file)\n",
    "        image = cv2.imread(image_path)\n",
    "\n",
    "        # Preprocesamiento de la imagen\n",
    "        gray_image = cv2.cvtColor(image, cv2.COLOR_BGR2GRAY)\n",
    "        _, binary_image = cv2.threshold(gray_image, 0, 255, cv2.THRESH_BINARY | cv2.THRESH_OTSU)\n",
    "        \n",
    "        # Añadir una dimensión adicional para que la imagen tenga 3 dimensiones\n",
    "        binary_image = cv2.cvtColor(binary_image, cv2.COLOR_GRAY2BGR)\n",
    "\n",
    "        # Convertir la imagen a tensor y enviarla a la GPU si está disponible\n",
    "        image_tensor = torch.tensor(binary_image, device=device)\n",
    "\n",
    "        # Procesar la imagen y generar el texto\n",
    "        pixel_values = processor(images=image_tensor, return_tensors=\"pt\").pixel_values\n",
    "        generated_ids = model.generate(pixel_values)\n",
    "        generated_text = processor.batch_decode(generated_ids, skip_special_tokens=True)[0]\n",
    "\n",
    "        # Imprimir el texto generado\n",
    "        print(\"Texto reconocido en\", image_file, \":\", generated_text)\n",
    "\n",
    "        # Escribir el texto reconocido en un archivo CSV\n",
    "        output_csv = 'data/output/output_text/output_text_trOCR.csv'\n",
    "        with open(output_csv, 'a', newline='', encoding='utf-8') as csvfile:  # Use 'a' for append mode\n",
    "            csv_writer = csv.writer(csvfile)\n",
    "            csv_writer.writerow([image_file, generated_text])\n",
    "\n",
    "print(\"Texto reconocido de todas las imágenes guardado en\", output_csv)"
   ]
  }
 ],
 "metadata": {
  "kernelspec": {
   "display_name": "SATURDAYSAI",
   "language": "python",
   "name": "python3"
  },
  "language_info": {
   "codemirror_mode": {
    "name": "ipython",
    "version": 3
   },
   "file_extension": ".py",
   "mimetype": "text/x-python",
   "name": "python",
   "nbconvert_exporter": "python",
   "pygments_lexer": "ipython3",
   "version": "3.10.8"
  }
 },
 "nbformat": 4,
 "nbformat_minor": 2
}
