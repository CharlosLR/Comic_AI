{
 "cells": [
  {
   "cell_type": "markdown",
   "metadata": {},
   "source": [
    "Preprocesamiento de la Imagen"
   ]
  },
  {
   "cell_type": "code",
   "execution_count": null,
   "metadata": {},
   "outputs": [],
   "source": [
    "import cv2\n",
    "import numpy as np\n",
    "\n",
    "# Cargar la imagen del cómic\n",
    "image = cv2.imread('comic.jpg')\n",
    "\n",
    "# Convertir a escala de grises\n",
    "gray = cv2.cvtColor(image, cv2.COLOR_BGR2GRAY)\n",
    "\n",
    "# Aplicar umbralización\n",
    "_, thresh = cv2.threshold(gray, 128, 255, cv2.THRESH_BINARY_INV)\n"
   ]
  },
  {
   "cell_type": "markdown",
   "metadata": {},
   "source": [
    " Detección de Contornos"
   ]
  },
  {
   "cell_type": "code",
   "execution_count": null,
   "metadata": {},
   "outputs": [],
   "source": [
    "# Detectar contornos\n",
    "contours, _ = cv2.findContours(thresh, cv2.RETR_EXTERNAL, cv2.CHAIN_APPROX_SIMPLE)\n",
    "\n",
    "# Filtrar contornos pequeños (opcional)\n",
    "min_area = 1000\n",
    "contours = [c for c in contours if cv2.contourArea(c) > min_area]\n"
   ]
  },
  {
   "cell_type": "markdown",
   "metadata": {},
   "source": [
    "Segmentación de Viñetas"
   ]
  },
  {
   "cell_type": "code",
   "execution_count": null,
   "metadata": {},
   "outputs": [],
   "source": [
    "# Crear una lista para almacenar las viñetas\n",
    "panels = []\n",
    "\n",
    "for contour in contours:\n",
    "    # Obtener el rectángulo delimitador de cada contorno\n",
    "    x, y, w, h = cv2.boundingRect(contour)\n",
    "    \n",
    "    # Extraer la viñeta usando el rectángulo delimitador\n",
    "    panel = image[y:y+h, x:x+w]\n",
    "    panels.append(panel)\n",
    "    \n",
    "    # (Opcional) Dibujar rectángulos alrededor de las viñetas en la imagen original\n",
    "    cv2.rectangle(image, (x, y), (x+w, y+h), (0, 255, 0), 2)\n",
    "\n",
    "# Mostrar la imagen con los rectángulos dibujados\n",
    "cv2.imshow('Viñetas detectadas', image)\n",
    "cv2.waitKey(0)\n",
    "cv2.destroyAllWindows()\n"
   ]
  },
  {
   "cell_type": "markdown",
   "metadata": {},
   "source": [
    "Procesamiento de Viñetas"
   ]
  },
  {
   "cell_type": "code",
   "execution_count": null,
   "metadata": {},
   "outputs": [],
   "source": [
    "# Guardar cada viñeta como una imagen separada\n",
    "for i, panel in enumerate(panels):\n",
    "    cv2.imwrite(f'panel_{i}.jpg', panel)\n"
   ]
  }
 ],
 "metadata": {
  "kernelspec": {
   "display_name": "SaturdayAI",
   "language": "python",
   "name": "python3"
  },
  "language_info": {
   "name": "python",
   "version": "3.12.3"
  }
 },
 "nbformat": 4,
 "nbformat_minor": 2
}
