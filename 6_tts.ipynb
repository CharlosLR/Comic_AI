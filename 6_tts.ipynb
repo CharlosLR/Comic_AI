{
 "cells": [
  {
   "cell_type": "code",
   "execution_count": null,
   "metadata": {},
   "outputs": [],
   "source": [
    "from gtts import gTTS\n",
    "import os\n",
    "\n",
    "# Función para convertir texto a audio\n",
    "def text_to_audio(file_path, lang='es'):\n",
    "    # Lee el contenido del archivo de texto\n",
    "    with open(file_path, 'r', encoding='utf-8') as file:\n",
    "        text = file.read()\n",
    "    \n",
    "    # Genera el objeto gTTS\n",
    "    tts = gTTS(text=text, lang=lang)\n",
    "    \n",
    "    # Define el nombre del archivo de salida\n",
    "    audio_file = file_path.replace('.txt', '.mp3')\n",
    "    \n",
    "    # Guarda el archivo de audio\n",
    "    tts.save(audio_file)\n",
    "    \n",
    "    print(f\"El archivo de audio se ha guardado como {audio_file}\")\n",
    "\n",
    "# Ruta del archivo de texto\n",
    "file_path = 'ruta/a/tu/archivo.txt'\n",
    "\n",
    "# Llama a la función para convertir el archivo de texto a audio\n",
    "text_to_audio(file_path)\n"
   ]
  }
 ],
 "metadata": {
  "language_info": {
   "name": "python"
  }
 },
 "nbformat": 4,
 "nbformat_minor": 2
}
