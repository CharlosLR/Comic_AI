{
 "cells": [
  {
   "cell_type": "code",
   "execution_count": 1,
   "metadata": {},
   "outputs": [],
   "source": [
    "from pycocotools.coco import COCO # COCO python library\n",
    "import numpy as np\n",
    "import skimage.io as io\n",
    "import matplotlib.pyplot as plt\n",
    "import pylab\n",
    "\n",
    "import random\n",
    "import string\n",
    "\n",
    "import cv2\n",
    "import os\n",
    "from pickle import dump, load\n",
    "import json\n",
    "\n",
    "import nltk\n",
    "from nltk.corpus import stopwords\n",
    "\n",
    "import tensorflow as tf\n",
    "from keras_preprocessing.sequence import pad_sequences\n",
    "from keras.layers import Embedding, LSTM, Dense, Bidirectional, Input, Dropout, Attention, add\n",
    "from keras.preprocessing.text import Tokenizer\n",
    "from keras.models import Sequential\n",
    "from keras.optimizers import Adam\n",
    "from keras_applications.xception import Xception, preprocess_input\n",
    "from keras_preprocessing.image import load_img, img_to_array\n",
    "from keras.utils import to_categorical\n",
    "from keras.models import Model, load_model\n"
   ]
  },
  {
   "cell_type": "code",
   "execution_count": 4,
   "metadata": {},
   "outputs": [
    {
     "name": "stdout",
     "output_type": "stream",
     "text": [
      "loading annotations into memory...\n"
     ]
    },
    {
     "ename": "FileNotFoundError",
     "evalue": "[Errno 2] No such file or directory: 'data\\\\input\\\\trainval\\\\instances_train2017.json'",
     "output_type": "error",
     "traceback": [
      "\u001b[1;31m---------------------------------------------------------------------------\u001b[0m",
      "\u001b[1;31mFileNotFoundError\u001b[0m                         Traceback (most recent call last)",
      "Cell \u001b[1;32mIn[4], line 2\u001b[0m\n\u001b[0;32m      1\u001b[0m data \u001b[38;5;241m=\u001b[39m \u001b[38;5;124mr\u001b[39m\u001b[38;5;124m\"\u001b[39m\u001b[38;5;124mdata\u001b[39m\u001b[38;5;124m\\\u001b[39m\u001b[38;5;124minput\u001b[39m\u001b[38;5;124m\\\u001b[39m\u001b[38;5;124mtrainval\u001b[39m\u001b[38;5;124m\\\u001b[39m\u001b[38;5;124minstances_train2017.json\u001b[39m\u001b[38;5;124m\"\u001b[39m\n\u001b[1;32m----> 2\u001b[0m coco \u001b[38;5;241m=\u001b[39m \u001b[43mCOCO\u001b[49m\u001b[43m(\u001b[49m\u001b[43mdata\u001b[49m\u001b[43m)\u001b[49m\n",
      "File \u001b[1;32mc:\\Users\\carlo\\anaconda3\\envs\\SATURDAYSAI-TENSO-CV2\\lib\\site-packages\\pycocotools\\coco.py:81\u001b[0m, in \u001b[0;36mCOCO.__init__\u001b[1;34m(self, annotation_file)\u001b[0m\n\u001b[0;32m     79\u001b[0m \u001b[38;5;28mprint\u001b[39m(\u001b[38;5;124m'\u001b[39m\u001b[38;5;124mloading annotations into memory...\u001b[39m\u001b[38;5;124m'\u001b[39m)\n\u001b[0;32m     80\u001b[0m tic \u001b[38;5;241m=\u001b[39m time\u001b[38;5;241m.\u001b[39mtime()\n\u001b[1;32m---> 81\u001b[0m \u001b[38;5;28;01mwith\u001b[39;00m \u001b[38;5;28;43mopen\u001b[39;49m\u001b[43m(\u001b[49m\u001b[43mannotation_file\u001b[49m\u001b[43m,\u001b[49m\u001b[43m \u001b[49m\u001b[38;5;124;43m'\u001b[39;49m\u001b[38;5;124;43mr\u001b[39;49m\u001b[38;5;124;43m'\u001b[39;49m\u001b[43m)\u001b[49m \u001b[38;5;28;01mas\u001b[39;00m f:\n\u001b[0;32m     82\u001b[0m     dataset \u001b[38;5;241m=\u001b[39m json\u001b[38;5;241m.\u001b[39mload(f)\n\u001b[0;32m     83\u001b[0m \u001b[38;5;28;01massert\u001b[39;00m \u001b[38;5;28mtype\u001b[39m(dataset)\u001b[38;5;241m==\u001b[39m\u001b[38;5;28mdict\u001b[39m, \u001b[38;5;124m'\u001b[39m\u001b[38;5;124mannotation file format \u001b[39m\u001b[38;5;132;01m{}\u001b[39;00m\u001b[38;5;124m not supported\u001b[39m\u001b[38;5;124m'\u001b[39m\u001b[38;5;241m.\u001b[39mformat(\u001b[38;5;28mtype\u001b[39m(dataset))\n",
      "\u001b[1;31mFileNotFoundError\u001b[0m: [Errno 2] No such file or directory: 'data\\\\input\\\\trainval\\\\instances_train2017.json'"
     ]
    }
   ],
   "source": [
    "data = r\"data\\input\\trainval\\instances_train2017.json\"\n",
    "coco = COCO(data)"
   ]
  },
  {
   "cell_type": "code",
   "execution_count": 2,
   "metadata": {},
   "outputs": [
    {
     "ename": "NameError",
     "evalue": "name 'coco' is not defined",
     "output_type": "error",
     "traceback": [
      "\u001b[1;31m---------------------------------------------------------------------------\u001b[0m",
      "\u001b[1;31mNameError\u001b[0m                                 Traceback (most recent call last)",
      "Cell \u001b[1;32mIn[2], line 1\u001b[0m\n\u001b[1;32m----> 1\u001b[0m cats \u001b[38;5;241m=\u001b[39m \u001b[43mcoco\u001b[49m\u001b[38;5;241m.\u001b[39mloadCats(coco\u001b[38;5;241m.\u001b[39mgetCatIds())\n\u001b[0;32m      2\u001b[0m maincategories \u001b[38;5;241m=\u001b[39m \u001b[38;5;28mlist\u001b[39m(\u001b[38;5;28mset\u001b[39m([cat[\u001b[38;5;124m'\u001b[39m\u001b[38;5;124msupercategory\u001b[39m\u001b[38;5;124m'\u001b[39m] \u001b[38;5;28;01mfor\u001b[39;00m cat \u001b[38;5;129;01min\u001b[39;00m cats]))\n\u001b[0;32m      4\u001b[0m \u001b[38;5;28mprint\u001b[39m(\u001b[38;5;124m\"\u001b[39m\u001b[38;5;124mNúmero de categorías principales: \u001b[39m\u001b[38;5;124m\"\u001b[39m, \u001b[38;5;28mlen\u001b[39m(maincategories))\n",
      "\u001b[1;31mNameError\u001b[0m: name 'coco' is not defined"
     ]
    }
   ],
   "source": [
    "#Identificar Categorias\n",
    "\n",
    "cats = coco.loadCats(coco.getCatIds())\n",
    "maincategories = list(set([cat['supercategory'] for cat in cats]))\n",
    "\n",
    "print(\"Número de categorías principales: \", len(maincategories))\n",
    "print(\"Lista de categorías principales: \", maincategories)"
   ]
  },
  {
   "cell_type": "code",
   "execution_count": null,
   "metadata": {},
   "outputs": [],
   "source": [
    "#Identificar Sub-Categorías\n",
    "\n",
    "subcategories = [cat['name'] for cat in cats]\n",
    "\n",
    "print(\"Number of sub categories: \", len(subcategories))\n",
    "print(\"List of sub categories: \", subcategories)"
   ]
  },
  {
   "cell_type": "code",
   "execution_count": null,
   "metadata": {},
   "outputs": [],
   "source": [
    "#Sub-categorías con su correspondientes IDs\n",
    "\n",
    "catIds = coco.getCatIds(catNms=subcategories)\n",
    "\n",
    "subcategories_Ids = dict()\n",
    "for i in range(0,len(subcategories)):\n",
    "    subcategories_Ids[subcategories[i]] = catIds[i]\n",
    "\n",
    "print(\"Sub categorías con IDs :\",subcategories_Ids)"
   ]
  },
  {
   "cell_type": "code",
   "execution_count": null,
   "metadata": {},
   "outputs": [],
   "source": [
    "#Total de imágenes para cada sub categoría\n",
    "\n",
    "subcategories_imageIds = dict()\n",
    "\n",
    "for i in range(0,len(catIds)):\n",
    "    imgIds = coco.getImgIds(catIds=catIds[i])\n",
    "    img = []\n",
    "    for j in imgIds:\n",
    "        img.append(j)\n",
    "    subcategories_imageIds[subcategories[i]] = img\n",
    "\n",
    "print(\"Sub-categorias con Image IDs :\",len(subcategories_imageIds))"
   ]
  },
  {
   "cell_type": "code",
   "execution_count": null,
   "metadata": {},
   "outputs": [],
   "source": [
    "length_dict = {key: len(value) for key, value in subcategories_imageIds.items()}\n",
    "print(\"Imágenes totales en cada sub categoría: \", length_dict)"
   ]
  },
  {
   "cell_type": "code",
   "execution_count": null,
   "metadata": {},
   "outputs": [],
   "source": [
    "#Se seleccionan dos subcategorías Bicicleta y Avión para llevar a cabo \n",
    "#el proyecto generador de leyendas de imágenes\n",
    "\n",
    "train_cats = subcategories_imageIds['bicycle'] + subcategories_imageIds['airplane']\n",
    "imgIdss = coco.getImgIds(imgIds = train_cats)\n",
    "print(\"Total Images: \", len(imgIdss))"
   ]
  },
  {
   "cell_type": "code",
   "execution_count": null,
   "metadata": {},
   "outputs": [],
   "source": [
    "#Cargamos algunas imagenes aleatorias\n",
    "\n",
    "fig = plt.gcf()\n",
    "fig.set_size_inches(16, 16)\n",
    "\n",
    "next_pix = imgIdss\n",
    "random.shuffle(next_pix)\n",
    "\n",
    "for i, img_path in enumerate(next_pix[0:12]):\n",
    "\n",
    "    sp = plt.subplot(4, 4, i + 1)\n",
    "    sp.axis('Off')\n",
    "\n",
    "    img = coco.loadImgs(img_path)[0]\n",
    "    I = io.imread(img['coco_url'])\n",
    "    plt.imshow(I)\n",
    "\n",
    "plt.show()"
   ]
  },
  {
   "cell_type": "code",
   "execution_count": null,
   "metadata": {},
   "outputs": [],
   "source": [
    "#Cargamos esas imagenes con objetos segmentados en ellas\n",
    "\n",
    "fig = plt.gcf()\n",
    "fig.set_size_inches(16, 16)\n",
    "\n",
    "for i, img_path in enumerate(next_pix[0:12]):\n",
    "\n",
    "    sp = plt.subplot(4, 4, i + 1)\n",
    "    sp.axis('Off')\n",
    "\n",
    "    img = coco.loadImgs(img_path)[0]\n",
    "    I = io.imread(img['coco_url'])\n",
    "    plt.imshow(I)\n",
    "    annIds = coco.getAnnIds(imgIds=img['id'], catIds=catIds, iscrowd=None)\n",
    "    anns = coco.loadAnns(annIds)\n",
    "    # print(anns)\n",
    "    coco.showAnns(anns)\n",
    "\n",
    "\n",
    "plt.show()"
   ]
  },
  {
   "cell_type": "code",
   "execution_count": null,
   "metadata": {},
   "outputs": [],
   "source": [
    "# Cargamos las imagenes con keypoints en ellas\n",
    "\n",
    "annFile = r\"data\\input\\trainval\\person_keypoints_train2017.json\"\n",
    "coco_kps=COCO(annFile)"
   ]
  },
  {
   "cell_type": "code",
   "execution_count": null,
   "metadata": {},
   "outputs": [],
   "source": [
    "fig = plt.gcf()\n",
    "fig.set_size_inches(16, 16)\n",
    "\n",
    "for i, img_path in enumerate(next_pix[0:12]):\n",
    "    \n",
    "    sp = plt.subplot(4, 4, i + 1)\n",
    "    sp.axis('Off')\n",
    "\n",
    "    img = coco.loadImgs(img_path)[0]\n",
    "    I = io.imread(img['coco_url'])\n",
    "    plt.imshow(I)\n",
    "    annIds = coco_kps.getAnnIds(imgIds=img['id'], catIds=catIds, iscrowd=None)\n",
    "    anns = coco_kps.loadAnns(annIds)\n",
    "    coco_kps.showAnns(anns)\n",
    "    \n",
    "\n",
    "plt.show()"
   ]
  },
  {
   "cell_type": "code",
   "execution_count": null,
   "metadata": {},
   "outputs": [],
   "source": [
    "# Cargamos las imágenes con sus correspondientes subtítulos\n",
    "annFile = \"data\\input\\trainval\\captions_train2017.json\"\n",
    "coco_caps=COCO(annFile)"
   ]
  },
  {
   "cell_type": "code",
   "execution_count": null,
   "metadata": {},
   "outputs": [],
   "source": [
    "img = coco.loadImgs(next_pix[0])[0]\n",
    "I = io.imread(img['coco_url'])\n",
    "plt.imshow(I)\n",
    "annIds = coco_caps.getAnnIds(imgIds=img['id']);\n",
    "anns = coco_caps.loadAnns(annIds)\n",
    "coco_caps.showAnns(anns)\n",
    "plt.show()"
   ]
  },
  {
   "cell_type": "code",
   "execution_count": null,
   "metadata": {},
   "outputs": [],
   "source": [
    "img = coco.loadImgs(next_pix[1])[0]\n",
    "I = io.imread(img['coco_url'])\n",
    "plt.imshow(I)\n",
    "annIds = coco_caps.getAnnIds(imgIds=img['id']);\n",
    "anns = coco_caps.loadAnns(annIds)\n",
    "coco_caps.showAnns(anns)\n",
    "plt.show()"
   ]
  },
  {
   "cell_type": "code",
   "execution_count": null,
   "metadata": {},
   "outputs": [],
   "source": [
    "img = coco.loadImgs(next_pix[10])[0]\n",
    "I = io.imread(img['coco_url'])\n",
    "plt.imshow(I)\n",
    "annIds = coco_caps.getAnnIds(imgIds=img['id']);\n",
    "anns = coco_caps.loadAnns(annIds)\n",
    "coco_caps.showAnns(anns)\n",
    "plt.show()"
   ]
  }
 ],
 "metadata": {
  "kernelspec": {
   "display_name": "SATURDAYSAI-TENSOR-CV2",
   "language": "python",
   "name": "python3"
  },
  "language_info": {
   "codemirror_mode": {
    "name": "ipython",
    "version": 3
   },
   "file_extension": ".py",
   "mimetype": "text/x-python",
   "name": "python",
   "nbconvert_exporter": "python",
   "pygments_lexer": "ipython3",
   "version": "3.10.8"
  }
 },
 "nbformat": 4,
 "nbformat_minor": 2
}
